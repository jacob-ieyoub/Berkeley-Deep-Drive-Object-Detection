{
  "nbformat": 4,
  "nbformat_minor": 0,
  "metadata": {
    "colab": {
      "name": "BDD-EDA.ipynb",
      "provenance": [],
      "toc_visible": true
    },
    "kernelspec": {
      "name": "python3",
      "display_name": "Python 3"
    }
  },
  "cells": [
    {
      "cell_type": "markdown",
      "metadata": {
        "id": "wEVzEttPaxmv",
        "colab_type": "text"
      },
      "source": [
        "# Exploratory Data Analysis of the Berkeley Deep Drive Dataset\n",
        "\n",
        "In this notebook we will look at the breakdown of the Berkeley Deep Drive dataset in regards to the distribution of varying characteristics within the imageset. "
      ]
    },
    {
      "cell_type": "code",
      "metadata": {
        "id": "1gdworipbAl6",
        "colab_type": "code",
        "colab": {}
      },
      "source": [
        "#import packages\n",
        "import numpy as np\n",
        "import pandas as pd\n",
        "import seaborn as sns\n",
        "import matplotlib.pyplot as plt\n",
        "import cv2\n",
        "import os\n",
        "from PIL import Image\n",
        "import itertools\n",
        "\n",
        "%matplotlib inline"
      ],
      "execution_count": null,
      "outputs": []
    },
    {
      "cell_type": "code",
      "metadata": {
        "id": "XkzSjGFbcHgW",
        "colab_type": "code",
        "colab": {
          "base_uri": "https://localhost:8080/",
          "height": 136
        },
        "outputId": "317d78de-aa2b-43ea-fe63-62f7a3f79d4f"
      },
      "source": [
        "#alias for google drive\n",
        "!ln -s /content/drive/My\\ Drive/ /mydrive\n",
        "!ls /mydrive/capstone_2"
      ],
      "execution_count": null,
      "outputs": [
        {
          "output_type": "stream",
          "text": [
            "Archive.zip\t   detected5.mp4\t   yolo_bdd_custom.cfg\n",
            "backup\t\t   docs\t\t\t   yolo_bdd_custom_final.weights\n",
            "backup1\t\t   nola.jpg\t\t   yolo.h5\n",
            "bdd03.mp4\t   resnet50_csv_20.h5\t   yolov3.weights\n",
            "bdd_train.zip\t   snapshots_1000\t   yolo-video.ipynb\n",
            "classes.names\t   snapshots_training_10k\n",
            "darknet53.conv.74  tensorboard\n"
          ],
          "name": "stdout"
        }
      ]
    },
    {
      "cell_type": "code",
      "metadata": {
        "id": "PGOCNK_mcS2f",
        "colab_type": "code",
        "colab": {}
      },
      "source": [
        "#copy over annotation file\n",
        "!cp /mydrive/capstone_2/Archive.zip ."
      ],
      "execution_count": null,
      "outputs": []
    },
    {
      "cell_type": "code",
      "metadata": {
        "id": "xUxW6ULKcemJ",
        "colab_type": "code",
        "colab": {
          "base_uri": "https://localhost:8080/",
          "height": 102
        },
        "outputId": "20a8fcd3-9c23-45b2-b3ee-4f27e1c52ae3"
      },
      "source": [
        "#unzip\n",
        "!unzip Archive.zip"
      ],
      "execution_count": null,
      "outputs": [
        {
          "output_type": "stream",
          "text": [
            "Archive:  Archive.zip\n",
            "  inflating: bdd100k_labels_images_train.json  \n",
            "  inflating: __MACOSX/._bdd100k_labels_images_train.json  \n",
            "  inflating: bdd100k_labels_images_val.json  \n",
            "  inflating: __MACOSX/._bdd100k_labels_images_val.json  \n"
          ],
          "name": "stdout"
        }
      ]
    },
    {
      "cell_type": "code",
      "metadata": {
        "id": "xwQXaN8lcZZl",
        "colab_type": "code",
        "colab": {
          "base_uri": "https://localhost:8080/",
          "height": 204
        },
        "outputId": "a28d5ff4-ed8f-4b04-ed64-1a1660510495"
      },
      "source": [
        "#load json file as pandas dataframe\n",
        "df_json = pd.read_json('bdd100k_labels_images_train.json')\n",
        "df_json.head()"
      ],
      "execution_count": null,
      "outputs": [
        {
          "output_type": "execute_result",
          "data": {
            "text/html": [
              "<div>\n",
              "<style scoped>\n",
              "    .dataframe tbody tr th:only-of-type {\n",
              "        vertical-align: middle;\n",
              "    }\n",
              "\n",
              "    .dataframe tbody tr th {\n",
              "        vertical-align: top;\n",
              "    }\n",
              "\n",
              "    .dataframe thead th {\n",
              "        text-align: right;\n",
              "    }\n",
              "</style>\n",
              "<table border=\"1\" class=\"dataframe\">\n",
              "  <thead>\n",
              "    <tr style=\"text-align: right;\">\n",
              "      <th></th>\n",
              "      <th>name</th>\n",
              "      <th>attributes</th>\n",
              "      <th>timestamp</th>\n",
              "      <th>labels</th>\n",
              "    </tr>\n",
              "  </thead>\n",
              "  <tbody>\n",
              "    <tr>\n",
              "      <th>0</th>\n",
              "      <td>0000f77c-6257be58.jpg</td>\n",
              "      <td>{'weather': 'clear', 'scene': 'city street', '...</td>\n",
              "      <td>10000</td>\n",
              "      <td>[{'category': 'traffic light', 'attributes': {...</td>\n",
              "    </tr>\n",
              "    <tr>\n",
              "      <th>1</th>\n",
              "      <td>0000f77c-62c2a288.jpg</td>\n",
              "      <td>{'weather': 'clear', 'scene': 'highway', 'time...</td>\n",
              "      <td>10000</td>\n",
              "      <td>[{'category': 'traffic sign', 'attributes': {'...</td>\n",
              "    </tr>\n",
              "    <tr>\n",
              "      <th>2</th>\n",
              "      <td>0000f77c-cb820c98.jpg</td>\n",
              "      <td>{'weather': 'clear', 'scene': 'residential', '...</td>\n",
              "      <td>10000</td>\n",
              "      <td>[{'category': 'car', 'attributes': {'occluded'...</td>\n",
              "    </tr>\n",
              "    <tr>\n",
              "      <th>3</th>\n",
              "      <td>0001542f-5ce3cf52.jpg</td>\n",
              "      <td>{'weather': 'clear', 'scene': 'city street', '...</td>\n",
              "      <td>10000</td>\n",
              "      <td>[{'category': 'traffic sign', 'attributes': {'...</td>\n",
              "    </tr>\n",
              "    <tr>\n",
              "      <th>4</th>\n",
              "      <td>0001542f-7c670be8.jpg</td>\n",
              "      <td>{'weather': 'clear', 'scene': 'highway', 'time...</td>\n",
              "      <td>10000</td>\n",
              "      <td>[{'category': 'car', 'attributes': {'occluded'...</td>\n",
              "    </tr>\n",
              "  </tbody>\n",
              "</table>\n",
              "</div>"
            ],
            "text/plain": [
              "                    name  ...                                             labels\n",
              "0  0000f77c-6257be58.jpg  ...  [{'category': 'traffic light', 'attributes': {...\n",
              "1  0000f77c-62c2a288.jpg  ...  [{'category': 'traffic sign', 'attributes': {'...\n",
              "2  0000f77c-cb820c98.jpg  ...  [{'category': 'car', 'attributes': {'occluded'...\n",
              "3  0001542f-5ce3cf52.jpg  ...  [{'category': 'traffic sign', 'attributes': {'...\n",
              "4  0001542f-7c670be8.jpg  ...  [{'category': 'car', 'attributes': {'occluded'...\n",
              "\n",
              "[5 rows x 4 columns]"
            ]
          },
          "metadata": {
            "tags": []
          },
          "execution_count": 6
        }
      ]
    },
    {
      "cell_type": "code",
      "metadata": {
        "id": "Jf4JEHEVc9wB",
        "colab_type": "code",
        "colab": {}
      },
      "source": [
        "#create dictionary that includes image file path, coordinates of object within image and object class\n",
        "dataset = dict()\n",
        "dataset['image_name'] = list()\n",
        "dataset['x_min'] = list()\n",
        "dataset['y_min'] = list()\n",
        "dataset['x_max'] = list()\n",
        "dataset['y_max'] = list()\n",
        "dataset['class_name'] = list()\n",
        "num_objects = list()\n",
        "image_names = list()\n",
        "\n",
        "for index, row in df_json.iterrows():\n",
        "\n",
        "  #list of image names\n",
        "  image_names.append('data/bdd_train/train/' + str(row['name']))\n",
        "\n",
        "  #number of objects per image\n",
        "  number = []\n",
        "  for obj in row['labels']:\n",
        "    if 'box2d' in obj:\n",
        "      number.append(1)\n",
        "  num_objects.append(sum(number))\n",
        "\n",
        "  #box label and coordinates\n",
        "  for i in range(len(row['labels'])):\n",
        "    if 'box2d' in row['labels'][i]:\n",
        "      #class name\n",
        "      dataset['class_name'].append(row['labels'][i]['category'])\n",
        "\n",
        "      #coordinates, retinanet only takes integers we we will round to whole numbers and change to type int\n",
        "      dataset['x_min'].append(int(round(row['labels'][i]['box2d']['x1'])))\n",
        "      dataset['y_min'].append(int(round(row['labels'][i]['box2d']['y1'])))\n",
        "      dataset['x_max'].append(int(round(row['labels'][i]['box2d']['x2'])))\n",
        "      dataset['y_max'].append(int(round(row['labels'][i]['box2d']['y2'])))\n",
        "\n",
        "\n",
        "for i in range(len(df_json)):\n",
        "  dataset['image_name'].append(num_objects[i] * (image_names[i],))\n",
        "\n",
        "dataset['image_name'] = list(itertools.chain(*dataset['image_name']))"
      ],
      "execution_count": null,
      "outputs": []
    },
    {
      "cell_type": "code",
      "metadata": {
        "id": "CilpWOvjhknv",
        "colab_type": "code",
        "colab": {}
      },
      "source": [
        "dataset_attributes = dict()\n",
        "dataset_attributes['image_name'] = list()\n",
        "dataset_attributes['weather'] = list()\n",
        "dataset_attributes['scene'] = list()\n",
        "dataset_attributes['timeofday'] = list()\n",
        "\n",
        "for index, row in df_json.iterrows():\n",
        "  dataset_attributes['image_name'].append(str(row['name']))\n",
        "  dataset_attributes['weather'].append(row['attributes']['weather'])\n",
        "  dataset_attributes['scene'].append(row['attributes']['scene'])\n",
        "  dataset_attributes['timeofday'].append(row['attributes']['timeofday'])"
      ],
      "execution_count": null,
      "outputs": []
    },
    {
      "cell_type": "code",
      "metadata": {
        "id": "hWfltMx4kOOo",
        "colab_type": "code",
        "colab": {
          "base_uri": "https://localhost:8080/",
          "height": 85
        },
        "outputId": "c112085c-4d7f-42d4-fc5a-0364634bffce"
      },
      "source": [
        "print(len(dataset_attributes['image_name']))\n",
        "print(len(dataset_attributes['weather']))\n",
        "print(len(dataset_attributes['scene']))\n",
        "print(len(dataset_attributes['timeofday']))"
      ],
      "execution_count": null,
      "outputs": [
        {
          "output_type": "stream",
          "text": [
            "69863\n",
            "69863\n",
            "69863\n",
            "69863\n"
          ],
          "name": "stdout"
        }
      ]
    },
    {
      "cell_type": "code",
      "metadata": {
        "id": "2y6cUIUAkWcZ",
        "colab_type": "code",
        "colab": {
          "base_uri": "https://localhost:8080/",
          "height": 204
        },
        "outputId": "ed64ac66-9693-4374-a28c-f8740eb848cf"
      },
      "source": [
        "df_classes = pd.DataFrame(dataset)\n",
        "df_classes.head()"
      ],
      "execution_count": null,
      "outputs": [
        {
          "output_type": "execute_result",
          "data": {
            "text/html": [
              "<div>\n",
              "<style scoped>\n",
              "    .dataframe tbody tr th:only-of-type {\n",
              "        vertical-align: middle;\n",
              "    }\n",
              "\n",
              "    .dataframe tbody tr th {\n",
              "        vertical-align: top;\n",
              "    }\n",
              "\n",
              "    .dataframe thead th {\n",
              "        text-align: right;\n",
              "    }\n",
              "</style>\n",
              "<table border=\"1\" class=\"dataframe\">\n",
              "  <thead>\n",
              "    <tr style=\"text-align: right;\">\n",
              "      <th></th>\n",
              "      <th>image_name</th>\n",
              "      <th>x_min</th>\n",
              "      <th>y_min</th>\n",
              "      <th>x_max</th>\n",
              "      <th>y_max</th>\n",
              "      <th>class_name</th>\n",
              "    </tr>\n",
              "  </thead>\n",
              "  <tbody>\n",
              "    <tr>\n",
              "      <th>0</th>\n",
              "      <td>data/bdd_train/train/0000f77c-6257be58.jpg</td>\n",
              "      <td>1126</td>\n",
              "      <td>133</td>\n",
              "      <td>1157</td>\n",
              "      <td>211</td>\n",
              "      <td>traffic light</td>\n",
              "    </tr>\n",
              "    <tr>\n",
              "      <th>1</th>\n",
              "      <td>data/bdd_train/train/0000f77c-6257be58.jpg</td>\n",
              "      <td>1157</td>\n",
              "      <td>137</td>\n",
              "      <td>1192</td>\n",
              "      <td>211</td>\n",
              "      <td>traffic light</td>\n",
              "    </tr>\n",
              "    <tr>\n",
              "      <th>2</th>\n",
              "      <td>data/bdd_train/train/0000f77c-6257be58.jpg</td>\n",
              "      <td>1102</td>\n",
              "      <td>211</td>\n",
              "      <td>1171</td>\n",
              "      <td>234</td>\n",
              "      <td>traffic sign</td>\n",
              "    </tr>\n",
              "    <tr>\n",
              "      <th>3</th>\n",
              "      <td>data/bdd_train/train/0000f77c-6257be58.jpg</td>\n",
              "      <td>0</td>\n",
              "      <td>0</td>\n",
              "      <td>100</td>\n",
              "      <td>123</td>\n",
              "      <td>traffic sign</td>\n",
              "    </tr>\n",
              "    <tr>\n",
              "      <th>4</th>\n",
              "      <td>data/bdd_train/train/0000f77c-6257be58.jpg</td>\n",
              "      <td>45</td>\n",
              "      <td>255</td>\n",
              "      <td>358</td>\n",
              "      <td>488</td>\n",
              "      <td>car</td>\n",
              "    </tr>\n",
              "  </tbody>\n",
              "</table>\n",
              "</div>"
            ],
            "text/plain": [
              "                                   image_name  x_min  ...  y_max     class_name\n",
              "0  data/bdd_train/train/0000f77c-6257be58.jpg   1126  ...    211  traffic light\n",
              "1  data/bdd_train/train/0000f77c-6257be58.jpg   1157  ...    211  traffic light\n",
              "2  data/bdd_train/train/0000f77c-6257be58.jpg   1102  ...    234   traffic sign\n",
              "3  data/bdd_train/train/0000f77c-6257be58.jpg      0  ...    123   traffic sign\n",
              "4  data/bdd_train/train/0000f77c-6257be58.jpg     45  ...    488            car\n",
              "\n",
              "[5 rows x 6 columns]"
            ]
          },
          "metadata": {
            "tags": []
          },
          "execution_count": 16
        }
      ]
    },
    {
      "cell_type": "code",
      "metadata": {
        "id": "ISZxMnjFktFj",
        "colab_type": "code",
        "colab": {
          "base_uri": "https://localhost:8080/",
          "height": 204
        },
        "outputId": "05b581a1-e95b-4fe1-efa2-55018dfe0216"
      },
      "source": [
        "df_attributes = pd.DataFrame(dataset_attributes)\n",
        "df_attributes.head()"
      ],
      "execution_count": null,
      "outputs": [
        {
          "output_type": "execute_result",
          "data": {
            "text/html": [
              "<div>\n",
              "<style scoped>\n",
              "    .dataframe tbody tr th:only-of-type {\n",
              "        vertical-align: middle;\n",
              "    }\n",
              "\n",
              "    .dataframe tbody tr th {\n",
              "        vertical-align: top;\n",
              "    }\n",
              "\n",
              "    .dataframe thead th {\n",
              "        text-align: right;\n",
              "    }\n",
              "</style>\n",
              "<table border=\"1\" class=\"dataframe\">\n",
              "  <thead>\n",
              "    <tr style=\"text-align: right;\">\n",
              "      <th></th>\n",
              "      <th>image_name</th>\n",
              "      <th>weather</th>\n",
              "      <th>scene</th>\n",
              "      <th>timeofday</th>\n",
              "    </tr>\n",
              "  </thead>\n",
              "  <tbody>\n",
              "    <tr>\n",
              "      <th>0</th>\n",
              "      <td>0000f77c-6257be58.jpg</td>\n",
              "      <td>clear</td>\n",
              "      <td>city street</td>\n",
              "      <td>daytime</td>\n",
              "    </tr>\n",
              "    <tr>\n",
              "      <th>1</th>\n",
              "      <td>0000f77c-62c2a288.jpg</td>\n",
              "      <td>clear</td>\n",
              "      <td>highway</td>\n",
              "      <td>dawn/dusk</td>\n",
              "    </tr>\n",
              "    <tr>\n",
              "      <th>2</th>\n",
              "      <td>0000f77c-cb820c98.jpg</td>\n",
              "      <td>clear</td>\n",
              "      <td>residential</td>\n",
              "      <td>dawn/dusk</td>\n",
              "    </tr>\n",
              "    <tr>\n",
              "      <th>3</th>\n",
              "      <td>0001542f-5ce3cf52.jpg</td>\n",
              "      <td>clear</td>\n",
              "      <td>city street</td>\n",
              "      <td>night</td>\n",
              "    </tr>\n",
              "    <tr>\n",
              "      <th>4</th>\n",
              "      <td>0001542f-7c670be8.jpg</td>\n",
              "      <td>clear</td>\n",
              "      <td>highway</td>\n",
              "      <td>night</td>\n",
              "    </tr>\n",
              "  </tbody>\n",
              "</table>\n",
              "</div>"
            ],
            "text/plain": [
              "              image_name weather        scene  timeofday\n",
              "0  0000f77c-6257be58.jpg   clear  city street    daytime\n",
              "1  0000f77c-62c2a288.jpg   clear      highway  dawn/dusk\n",
              "2  0000f77c-cb820c98.jpg   clear  residential  dawn/dusk\n",
              "3  0001542f-5ce3cf52.jpg   clear  city street      night\n",
              "4  0001542f-7c670be8.jpg   clear      highway      night"
            ]
          },
          "metadata": {
            "tags": []
          },
          "execution_count": 17
        }
      ]
    },
    {
      "cell_type": "code",
      "metadata": {
        "id": "tptDmHUzN-BS",
        "colab_type": "code",
        "colab": {
          "base_uri": "https://localhost:8080/",
          "height": 51
        },
        "outputId": "f4cf7032-d89a-411f-9cd6-1e8a11a36d5e"
      },
      "source": [
        "df_attributes['weather'].unique()"
      ],
      "execution_count": null,
      "outputs": [
        {
          "output_type": "execute_result",
          "data": {
            "text/plain": [
              "array(['clear', 'rainy', 'undefined', 'snowy', 'overcast',\n",
              "       'partly cloudy', 'foggy'], dtype=object)"
            ]
          },
          "metadata": {
            "tags": []
          },
          "execution_count": 67
        }
      ]
    },
    {
      "cell_type": "code",
      "metadata": {
        "id": "AyKYxfZeOEzc",
        "colab_type": "code",
        "colab": {
          "base_uri": "https://localhost:8080/",
          "height": 419
        },
        "outputId": "134f501f-fa3c-4db8-a1f7-e42ca83177ec"
      },
      "source": [
        "df_attributes[df_attributes['weather'] == 'undefined']"
      ],
      "execution_count": null,
      "outputs": [
        {
          "output_type": "execute_result",
          "data": {
            "text/html": [
              "<div>\n",
              "<style scoped>\n",
              "    .dataframe tbody tr th:only-of-type {\n",
              "        vertical-align: middle;\n",
              "    }\n",
              "\n",
              "    .dataframe tbody tr th {\n",
              "        vertical-align: top;\n",
              "    }\n",
              "\n",
              "    .dataframe thead th {\n",
              "        text-align: right;\n",
              "    }\n",
              "</style>\n",
              "<table border=\"1\" class=\"dataframe\">\n",
              "  <thead>\n",
              "    <tr style=\"text-align: right;\">\n",
              "      <th></th>\n",
              "      <th>image_name</th>\n",
              "      <th>weather</th>\n",
              "      <th>scene</th>\n",
              "      <th>timeofday</th>\n",
              "    </tr>\n",
              "  </thead>\n",
              "  <tbody>\n",
              "    <tr>\n",
              "      <th>11</th>\n",
              "      <td>00067cfb-e535423e.jpg</td>\n",
              "      <td>undefined</td>\n",
              "      <td>city street</td>\n",
              "      <td>dawn/dusk</td>\n",
              "    </tr>\n",
              "    <tr>\n",
              "      <th>13</th>\n",
              "      <td>0008a165-c48f4b3e.jpg</td>\n",
              "      <td>undefined</td>\n",
              "      <td>highway</td>\n",
              "      <td>dawn/dusk</td>\n",
              "    </tr>\n",
              "    <tr>\n",
              "      <th>14</th>\n",
              "      <td>00091078-59817bb0.jpg</td>\n",
              "      <td>undefined</td>\n",
              "      <td>city street</td>\n",
              "      <td>daytime</td>\n",
              "    </tr>\n",
              "    <tr>\n",
              "      <th>26</th>\n",
              "      <td>000f157f-dab3a407.jpg</td>\n",
              "      <td>undefined</td>\n",
              "      <td>city street</td>\n",
              "      <td>daytime</td>\n",
              "    </tr>\n",
              "    <tr>\n",
              "      <th>27</th>\n",
              "      <td>000f8d37-d4c09a0f.jpg</td>\n",
              "      <td>undefined</td>\n",
              "      <td>city street</td>\n",
              "      <td>daytime</td>\n",
              "    </tr>\n",
              "    <tr>\n",
              "      <th>...</th>\n",
              "      <td>...</td>\n",
              "      <td>...</td>\n",
              "      <td>...</td>\n",
              "      <td>...</td>\n",
              "    </tr>\n",
              "    <tr>\n",
              "      <th>69822</th>\n",
              "      <td>fdf51610-c7c9d2a5.jpg</td>\n",
              "      <td>undefined</td>\n",
              "      <td>residential</td>\n",
              "      <td>daytime</td>\n",
              "    </tr>\n",
              "    <tr>\n",
              "      <th>69845</th>\n",
              "      <td>fe0b200a-35da98ba.jpg</td>\n",
              "      <td>undefined</td>\n",
              "      <td>city street</td>\n",
              "      <td>daytime</td>\n",
              "    </tr>\n",
              "    <tr>\n",
              "      <th>69860</th>\n",
              "      <td>fe189115-352995ee.jpg</td>\n",
              "      <td>undefined</td>\n",
              "      <td>city street</td>\n",
              "      <td>daytime</td>\n",
              "    </tr>\n",
              "    <tr>\n",
              "      <th>69861</th>\n",
              "      <td>fe189115-354e7981.jpg</td>\n",
              "      <td>undefined</td>\n",
              "      <td>city street</td>\n",
              "      <td>daytime</td>\n",
              "    </tr>\n",
              "    <tr>\n",
              "      <th>69862</th>\n",
              "      <td>fe189115-8dabb5b1.jpg</td>\n",
              "      <td>undefined</td>\n",
              "      <td>highway</td>\n",
              "      <td>daytime</td>\n",
              "    </tr>\n",
              "  </tbody>\n",
              "</table>\n",
              "<p>8119 rows × 4 columns</p>\n",
              "</div>"
            ],
            "text/plain": [
              "                  image_name    weather        scene  timeofday\n",
              "11     00067cfb-e535423e.jpg  undefined  city street  dawn/dusk\n",
              "13     0008a165-c48f4b3e.jpg  undefined      highway  dawn/dusk\n",
              "14     00091078-59817bb0.jpg  undefined  city street    daytime\n",
              "26     000f157f-dab3a407.jpg  undefined  city street    daytime\n",
              "27     000f8d37-d4c09a0f.jpg  undefined  city street    daytime\n",
              "...                      ...        ...          ...        ...\n",
              "69822  fdf51610-c7c9d2a5.jpg  undefined  residential    daytime\n",
              "69845  fe0b200a-35da98ba.jpg  undefined  city street    daytime\n",
              "69860  fe189115-352995ee.jpg  undefined  city street    daytime\n",
              "69861  fe189115-354e7981.jpg  undefined  city street    daytime\n",
              "69862  fe189115-8dabb5b1.jpg  undefined      highway    daytime\n",
              "\n",
              "[8119 rows x 4 columns]"
            ]
          },
          "metadata": {
            "tags": []
          },
          "execution_count": 68
        }
      ]
    },
    {
      "cell_type": "code",
      "metadata": {
        "id": "PVnkRjxtkyIg",
        "colab_type": "code",
        "colab": {}
      },
      "source": [
        "weather = pd.DataFrame(df_attributes['weather'].value_counts())\n",
        "weather = weather.rename(columns={'weather': 'instances'})\n",
        "\n",
        "scene = pd.DataFrame(df_attributes['scene'].value_counts())\n",
        "scene = scene.rename(columns={'scene': 'instances'})\n",
        "\n",
        "timeofday = pd.DataFrame(df_attributes['timeofday'].value_counts())\n",
        "timeofday = timeofday.rename(columns={'timeofday': 'instances'})"
      ],
      "execution_count": null,
      "outputs": []
    },
    {
      "cell_type": "code",
      "metadata": {
        "id": "5_b-UDi1sFSd",
        "colab_type": "code",
        "colab": {
          "base_uri": "https://localhost:8080/",
          "height": 266
        },
        "outputId": "2bb7e6a3-7791-4105-9d3f-3175e9d0d538"
      },
      "source": [
        "weather"
      ],
      "execution_count": null,
      "outputs": [
        {
          "output_type": "execute_result",
          "data": {
            "text/html": [
              "<div>\n",
              "<style scoped>\n",
              "    .dataframe tbody tr th:only-of-type {\n",
              "        vertical-align: middle;\n",
              "    }\n",
              "\n",
              "    .dataframe tbody tr th {\n",
              "        vertical-align: top;\n",
              "    }\n",
              "\n",
              "    .dataframe thead th {\n",
              "        text-align: right;\n",
              "    }\n",
              "</style>\n",
              "<table border=\"1\" class=\"dataframe\">\n",
              "  <thead>\n",
              "    <tr style=\"text-align: right;\">\n",
              "      <th></th>\n",
              "      <th>instances</th>\n",
              "    </tr>\n",
              "  </thead>\n",
              "  <tbody>\n",
              "    <tr>\n",
              "      <th>clear</th>\n",
              "      <td>37344</td>\n",
              "    </tr>\n",
              "    <tr>\n",
              "      <th>overcast</th>\n",
              "      <td>8770</td>\n",
              "    </tr>\n",
              "    <tr>\n",
              "      <th>undefined</th>\n",
              "      <td>8119</td>\n",
              "    </tr>\n",
              "    <tr>\n",
              "      <th>snowy</th>\n",
              "      <td>5549</td>\n",
              "    </tr>\n",
              "    <tr>\n",
              "      <th>rainy</th>\n",
              "      <td>5070</td>\n",
              "    </tr>\n",
              "    <tr>\n",
              "      <th>partly cloudy</th>\n",
              "      <td>4881</td>\n",
              "    </tr>\n",
              "    <tr>\n",
              "      <th>foggy</th>\n",
              "      <td>130</td>\n",
              "    </tr>\n",
              "  </tbody>\n",
              "</table>\n",
              "</div>"
            ],
            "text/plain": [
              "               instances\n",
              "clear              37344\n",
              "overcast            8770\n",
              "undefined           8119\n",
              "snowy               5549\n",
              "rainy               5070\n",
              "partly cloudy       4881\n",
              "foggy                130"
            ]
          },
          "metadata": {
            "tags": []
          },
          "execution_count": 32
        }
      ]
    },
    {
      "cell_type": "code",
      "metadata": {
        "id": "yJrb9n1GzvpE",
        "colab_type": "code",
        "colab": {}
      },
      "source": [
        "sns.set(style='whitegrid', palette='muted', font_scale=1.5)"
      ],
      "execution_count": null,
      "outputs": []
    },
    {
      "cell_type": "code",
      "metadata": {
        "id": "hb-JFOR1yQbU",
        "colab_type": "code",
        "colab": {
          "base_uri": "https://localhost:8080/",
          "height": 624
        },
        "outputId": "c7e31160-c385-494f-f0b3-987efdfb47a1"
      },
      "source": [
        "plt.figure(figsize=[20, 10])\n",
        "w = sns.barplot(x='instances', y = weather.index, data=weather, color='b')\n",
        "for p in w.patches:\n",
        "  width = p.get_width()\n",
        "  plt.text(1500 + p.get_width(), p.get_y() + 0.55*p.get_height(), '{:1.0f}'.format(width), ha='center', va='center')"
      ],
      "execution_count": null,
      "outputs": [
        {
          "output_type": "display_data",
          "data": {
            "image/png": "[encoded data removed]",
            "text/plain": [
              "<Figure size 1440x720 with 1 Axes>"
            ]
          },
          "metadata": {
            "tags": []
          }
        }
      ]
    },
    {
      "cell_type": "code",
      "metadata": {
        "id": "DzZcIk8awcNH",
        "colab_type": "code",
        "colab": {
          "base_uri": "https://localhost:8080/",
          "height": 266
        },
        "outputId": "8329db4a-3c07-4551-cfff-23c4f62a6eac"
      },
      "source": [
        "scene"
      ],
      "execution_count": null,
      "outputs": [
        {
          "output_type": "execute_result",
          "data": {
            "text/html": [
              "<div>\n",
              "<style scoped>\n",
              "    .dataframe tbody tr th:only-of-type {\n",
              "        vertical-align: middle;\n",
              "    }\n",
              "\n",
              "    .dataframe tbody tr th {\n",
              "        vertical-align: top;\n",
              "    }\n",
              "\n",
              "    .dataframe thead th {\n",
              "        text-align: right;\n",
              "    }\n",
              "</style>\n",
              "<table border=\"1\" class=\"dataframe\">\n",
              "  <thead>\n",
              "    <tr style=\"text-align: right;\">\n",
              "      <th></th>\n",
              "      <th>instances</th>\n",
              "    </tr>\n",
              "  </thead>\n",
              "  <tbody>\n",
              "    <tr>\n",
              "      <th>city street</th>\n",
              "      <td>43516</td>\n",
              "    </tr>\n",
              "    <tr>\n",
              "      <th>highway</th>\n",
              "      <td>17379</td>\n",
              "    </tr>\n",
              "    <tr>\n",
              "      <th>residential</th>\n",
              "      <td>8074</td>\n",
              "    </tr>\n",
              "    <tr>\n",
              "      <th>parking lot</th>\n",
              "      <td>377</td>\n",
              "    </tr>\n",
              "    <tr>\n",
              "      <th>undefined</th>\n",
              "      <td>361</td>\n",
              "    </tr>\n",
              "    <tr>\n",
              "      <th>tunnel</th>\n",
              "      <td>129</td>\n",
              "    </tr>\n",
              "    <tr>\n",
              "      <th>gas stations</th>\n",
              "      <td>27</td>\n",
              "    </tr>\n",
              "  </tbody>\n",
              "</table>\n",
              "</div>"
            ],
            "text/plain": [
              "              instances\n",
              "city street       43516\n",
              "highway           17379\n",
              "residential        8074\n",
              "parking lot         377\n",
              "undefined           361\n",
              "tunnel              129\n",
              "gas stations         27"
            ]
          },
          "metadata": {
            "tags": []
          },
          "execution_count": 33
        }
      ]
    },
    {
      "cell_type": "code",
      "metadata": {
        "id": "ZXOKkqaB0pmL",
        "colab_type": "code",
        "colab": {
          "base_uri": "https://localhost:8080/",
          "height": 624
        },
        "outputId": "9373b7e8-2da4-4809-e41a-79b54692c91f"
      },
      "source": [
        "plt.figure(figsize=[20, 10])\n",
        "s = sns.barplot(x='instances', y = scene.index, data=scene, color='b')\n",
        "for p in s.patches:\n",
        "  width = p.get_width()\n",
        "  plt.text(1500 + p.get_width(), p.get_y() + 0.55*p.get_height(), '{:1.0f}'.format(width), ha='center', va='center')"
      ],
      "execution_count": null,
      "outputs": [
        {
          "output_type": "display_data",
          "data": {
            "image/png": "[encoded data removed]",
            "text/plain": [
              "<Figure size 1440x720 with 1 Axes>"
            ]
          },
          "metadata": {
            "tags": []
          }
        }
      ]
    },
    {
      "cell_type": "code",
      "metadata": {
        "id": "NNhoQPNKyMpU",
        "colab_type": "code",
        "colab": {
          "base_uri": "https://localhost:8080/",
          "height": 173
        },
        "outputId": "7c454651-008c-4a66-ae5d-519dfb16510a"
      },
      "source": [
        "timeofday"
      ],
      "execution_count": null,
      "outputs": [
        {
          "output_type": "execute_result",
          "data": {
            "text/html": [
              "<div>\n",
              "<style scoped>\n",
              "    .dataframe tbody tr th:only-of-type {\n",
              "        vertical-align: middle;\n",
              "    }\n",
              "\n",
              "    .dataframe tbody tr th {\n",
              "        vertical-align: top;\n",
              "    }\n",
              "\n",
              "    .dataframe thead th {\n",
              "        text-align: right;\n",
              "    }\n",
              "</style>\n",
              "<table border=\"1\" class=\"dataframe\">\n",
              "  <thead>\n",
              "    <tr style=\"text-align: right;\">\n",
              "      <th></th>\n",
              "      <th>instances</th>\n",
              "    </tr>\n",
              "  </thead>\n",
              "  <tbody>\n",
              "    <tr>\n",
              "      <th>daytime</th>\n",
              "      <td>36728</td>\n",
              "    </tr>\n",
              "    <tr>\n",
              "      <th>night</th>\n",
              "      <td>27971</td>\n",
              "    </tr>\n",
              "    <tr>\n",
              "      <th>dawn/dusk</th>\n",
              "      <td>5027</td>\n",
              "    </tr>\n",
              "    <tr>\n",
              "      <th>undefined</th>\n",
              "      <td>137</td>\n",
              "    </tr>\n",
              "  </tbody>\n",
              "</table>\n",
              "</div>"
            ],
            "text/plain": [
              "           instances\n",
              "daytime        36728\n",
              "night          27971\n",
              "dawn/dusk       5027\n",
              "undefined        137"
            ]
          },
          "metadata": {
            "tags": []
          },
          "execution_count": 34
        }
      ]
    },
    {
      "cell_type": "code",
      "metadata": {
        "id": "y9CP6rj2031L",
        "colab_type": "code",
        "colab": {
          "base_uri": "https://localhost:8080/",
          "height": 624
        },
        "outputId": "f6ad08db-dda5-4f4e-ce62-dbb4f2963053"
      },
      "source": [
        "plt.figure(figsize=[20, 10])\n",
        "t = sns.barplot(x='instances', y = timeofday.index, data=timeofday, color='b')\n",
        "for p in t.patches:\n",
        "  width = p.get_width()\n",
        "  plt.text(1500 + p.get_width(), p.get_y() + 0.55*p.get_height(), '{:1.0f}'.format(width), ha='center', va='center')"
      ],
      "execution_count": null,
      "outputs": [
        {
          "output_type": "display_data",
          "data": {
            "image/png": "[encoded data removed]",
            "text/plain": [
              "<Figure size 1440x720 with 1 Axes>"
            ]
          },
          "metadata": {
            "tags": []
          }
        }
      ]
    },
    {
      "cell_type": "code",
      "metadata": {
        "id": "0EeK9Ii21dSa",
        "colab_type": "code",
        "colab": {
          "base_uri": "https://localhost:8080/",
          "height": 359
        },
        "outputId": "f98c4921-6b6e-496e-ebf5-f7149ba16bf4"
      },
      "source": [
        "classes = pd.DataFrame(df_classes['class_name'].value_counts())\n",
        "classes = classes.rename(columns={'class_name':'instances'})\n",
        "classes"
      ],
      "execution_count": null,
      "outputs": [
        {
          "output_type": "execute_result",
          "data": {
            "text/html": [
              "<div>\n",
              "<style scoped>\n",
              "    .dataframe tbody tr th:only-of-type {\n",
              "        vertical-align: middle;\n",
              "    }\n",
              "\n",
              "    .dataframe tbody tr th {\n",
              "        vertical-align: top;\n",
              "    }\n",
              "\n",
              "    .dataframe thead th {\n",
              "        text-align: right;\n",
              "    }\n",
              "</style>\n",
              "<table border=\"1\" class=\"dataframe\">\n",
              "  <thead>\n",
              "    <tr style=\"text-align: right;\">\n",
              "      <th></th>\n",
              "      <th>instances</th>\n",
              "    </tr>\n",
              "  </thead>\n",
              "  <tbody>\n",
              "    <tr>\n",
              "      <th>car</th>\n",
              "      <td>713211</td>\n",
              "    </tr>\n",
              "    <tr>\n",
              "      <th>traffic sign</th>\n",
              "      <td>239686</td>\n",
              "    </tr>\n",
              "    <tr>\n",
              "      <th>traffic light</th>\n",
              "      <td>186117</td>\n",
              "    </tr>\n",
              "    <tr>\n",
              "      <th>person</th>\n",
              "      <td>91349</td>\n",
              "    </tr>\n",
              "    <tr>\n",
              "      <th>truck</th>\n",
              "      <td>29971</td>\n",
              "    </tr>\n",
              "    <tr>\n",
              "      <th>bus</th>\n",
              "      <td>11672</td>\n",
              "    </tr>\n",
              "    <tr>\n",
              "      <th>bike</th>\n",
              "      <td>7210</td>\n",
              "    </tr>\n",
              "    <tr>\n",
              "      <th>rider</th>\n",
              "      <td>4517</td>\n",
              "    </tr>\n",
              "    <tr>\n",
              "      <th>motor</th>\n",
              "      <td>3002</td>\n",
              "    </tr>\n",
              "    <tr>\n",
              "      <th>train</th>\n",
              "      <td>136</td>\n",
              "    </tr>\n",
              "  </tbody>\n",
              "</table>\n",
              "</div>"
            ],
            "text/plain": [
              "               instances\n",
              "car               713211\n",
              "traffic sign      239686\n",
              "traffic light     186117\n",
              "person             91349\n",
              "truck              29971\n",
              "bus                11672\n",
              "bike                7210\n",
              "rider               4517\n",
              "motor               3002\n",
              "train                136"
            ]
          },
          "metadata": {
            "tags": []
          },
          "execution_count": 57
        }
      ]
    },
    {
      "cell_type": "code",
      "metadata": {
        "id": "aYvPQ-SoyNt5",
        "colab_type": "code",
        "colab": {
          "base_uri": "https://localhost:8080/",
          "height": 624
        },
        "outputId": "0af5973d-68c6-4f1f-cb55-dc868175bd8d"
      },
      "source": [
        "#distribution of classes in the image dataset, no surprises that cars are represented the most\n",
        "plt.figure(figsize=[20, 10])\n",
        "c = sns.barplot(x = 'instances', y = classes.index, data=classes, color = 'b')\n",
        "for p in c.patches:\n",
        "  width = p.get_width()\n",
        "  plt.text(22000 +  p.get_width(), p.get_y() + 0.55*p.get_height(), '{:1.0f}'.format(width), ha='center', va='center')"
      ],
      "execution_count": null,
      "outputs": [
        {
          "output_type": "display_data",
          "data": {
            "image/png": "[encoded data removed]",
            "text/plain": [
              "<Figure size 1440x720 with 1 Axes>"
            ]
          },
          "metadata": {
            "tags": []
          }
        }
      ]
    },
    {
      "cell_type": "markdown",
      "metadata": {
        "id": "rPHGW6iL_-P2",
        "colab_type": "text"
      },
      "source": [
        "There is great class imbalance in the dataset. Particularly when it comes to the train class. It is expected that the AP on trains will be close or at 0.00."
      ]
    }
  ]
}