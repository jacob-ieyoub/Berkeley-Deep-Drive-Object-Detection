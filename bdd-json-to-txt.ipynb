{
 "cells": [
  {
   "cell_type": "code",
   "execution_count": 1,
   "metadata": {},
   "outputs": [],
   "source": [
    "#load packages\n",
    "import pandas as pd\n",
    "import numpy as np\n",
    "import os\n",
    "import json\n",
    "from pandas.io.json import json_normalize\n",
    "import cv2"
   ]
  },
  {
   "cell_type": "code",
   "execution_count": 2,
   "metadata": {},
   "outputs": [],
   "source": [
    "#file path to json file with annotations training\n",
    "path_train = 'bdd-annotations/labels/bdd100k_labels_images_train.json'\n",
    "\n",
    "#file path to json file with annotations validation\n",
    "path_val = 'bdd-annotations/labels/bdd100k_labels_images_val.json'"
   ]
  },
  {
   "cell_type": "code",
   "execution_count": 3,
   "metadata": {},
   "outputs": [],
   "source": [
    "#load train json file \n",
    "train_json = json.load((open(path_train)))\n",
    "\n",
    "#load val json file \n",
    "val_json = json.load((open(path_val)))"
   ]
  },
  {
   "cell_type": "code",
   "execution_count": 4,
   "metadata": {},
   "outputs": [],
   "source": [
    "#path to train images\n",
    "path_images_train = 'bdd-images/images/100k/train/'\n",
    "\n",
    "#path to val images\n",
    "path_images_val = 'bdd-images/images/100k/val/'"
   ]
  },
  {
   "cell_type": "code",
   "execution_count": 5,
   "metadata": {},
   "outputs": [],
   "source": [
    "\n",
    "def json2txt(json_file, path_to_images):\n",
    "    for image in json_file:\n",
    "        image_name = image['name'][:-4]\n",
    "        \n",
    "        f = open(path_to_images + image_name + '.txt', 'w')\n",
    "        \n",
    "        for label in image['labels']:\n",
    "            if 'box2d' not in label:\n",
    "                continue\n",
    "            xy = label['box2d']\n",
    "            if xy['x1'] >= xy['x2'] or xy['y1'] >= xy['y2']:\n",
    "                continue\n",
    "            X = xy['x1'] / 1280\n",
    "            Y = xy['y1'] / 720\n",
    "            MX = ((xy['x1'] + xy['x2']) / 2) / 1280\n",
    "            MY = ((xy['y1'] + xy['y2']) / 2) / 720\n",
    "            W = xy['x2'] / 1280\n",
    "            H = xy['y2'] / 720\n",
    "            \n",
    "            if X > W or Y > H:\n",
    "                continue\n",
    "            lbl = -1\n",
    "            \n",
    "            if(label['category'] == 'bike'):\n",
    "                lbl = 0\n",
    "            if(label['category'] == 'bus'):\n",
    "                lbl = 1\n",
    "            if(label['category'] == 'car'):\n",
    "                lbl = 2\n",
    "            if(label['category'] == 'motor'):\n",
    "                lbl = 3\n",
    "            if(label['category'] == 'person'):\n",
    "                lbl = 4\n",
    "            if(label['category'] == 'rider'):\n",
    "                lbl = 5\n",
    "            if(label['category'] == 'traffic light'):\n",
    "                lbl = 6\n",
    "            if(label['category'] == 'traffic sign'):\n",
    "                lbl = 7\n",
    "            if(label['category'] == 'train'):\n",
    "                lbl = 8\n",
    "            if(label['category'] == 'truck'):\n",
    "                lbl = 9\n",
    "            f.write(repr(lbl) + ' ' + repr(MX) + ' ' + repr(MY) + ' ' + repr(W-X) + ' ' + repr(H-Y) + '\\n')"
   ]
  },
  {
   "cell_type": "code",
   "execution_count": 6,
   "metadata": {},
   "outputs": [],
   "source": [
    "#Create .txt annotation files on validation set\n",
    "json2txt(val_json, path_images_val)"
   ]
  },
  {
   "cell_type": "code",
   "execution_count": 7,
   "metadata": {},
   "outputs": [],
   "source": [
    "#Create .txt annotation files on training set\n",
    "json2txt(train_json, path_images_train)"
   ]
  },
  {
   "cell_type": "code",
   "execution_count": null,
   "metadata": {},
   "outputs": [],
   "source": []
  },
  {
   "cell_type": "code",
   "execution_count": null,
   "metadata": {},
   "outputs": [],
   "source": []
  },
  {
   "cell_type": "code",
   "execution_count": null,
   "metadata": {},
   "outputs": [],
   "source": []
  },
  {
   "cell_type": "code",
   "execution_count": null,
   "metadata": {},
   "outputs": [],
   "source": []
  }
 ],
 "metadata": {
  "kernelspec": {
   "display_name": "Python 3",
   "language": "python",
   "name": "python3"
  },
  "language_info": {
   "codemirror_mode": {
    "name": "ipython",
    "version": 3
   },
   "file_extension": ".py",
   "mimetype": "text/x-python",
   "name": "python",
   "nbconvert_exporter": "python",
   "pygments_lexer": "ipython3",
   "version": "3.7.6"
  }
 },
 "nbformat": 4,
 "nbformat_minor": 4
}
